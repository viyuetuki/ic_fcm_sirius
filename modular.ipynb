{
 "cells": [
  {
   "cell_type": "markdown",
   "metadata": {},
   "source": [
    "# Modular arithmetic"
   ]
  },
  {
   "cell_type": "markdown",
   "metadata": {},
   "source": [
    "Concepts:\n",
    "\n",
    "modulus: an operation that returns the remainder of a division."
   ]
  },
  {
   "cell_type": "markdown",
   "metadata": {},
   "source": [
    "## Congruence"
   ]
  },
  {
   "cell_type": "code",
   "execution_count": 35,
   "metadata": {},
   "outputs": [],
   "source": [
    "def modulo(a, m):\n",
    "    \"\"\"An operation that divides a by m and returns the remainder of it. (%)\"\"\"\n",
    "    print(f\"{a} mod {m}:\")\n",
    "    return a % m "
   ]
  },
  {
   "cell_type": "markdown",
   "metadata": {},
   "source": [
    "Examples:"
   ]
  },
  {
   "cell_type": "code",
   "execution_count": 36,
   "metadata": {},
   "outputs": [
    {
     "name": "stdout",
     "output_type": "stream",
     "text": [
      "4 mod 2:\n"
     ]
    },
    {
     "data": {
      "text/plain": [
       "0"
      ]
     },
     "execution_count": 36,
     "metadata": {},
     "output_type": "execute_result"
    }
   ],
   "source": [
    "modulo(4,2)"
   ]
  },
  {
   "cell_type": "code",
   "execution_count": 37,
   "metadata": {},
   "outputs": [
    {
     "name": "stdout",
     "output_type": "stream",
     "text": [
      "5 mod 2:\n"
     ]
    },
    {
     "data": {
      "text/plain": [
       "1"
      ]
     },
     "execution_count": 37,
     "metadata": {},
     "output_type": "execute_result"
    }
   ],
   "source": [
    "modulo(5,2)"
   ]
  },
  {
   "cell_type": "code",
   "execution_count": 38,
   "metadata": {},
   "outputs": [],
   "source": [
    "def congruence(a,m, b):\n",
    "    \"\"\"A function to verify if a and b are congruent modulo m. b can be given or not. All the relations are\n",
    "    printed.\"\"\"\n",
    "    \n",
    "    if b == None:\n",
    "        b = modulo(a,m)\n",
    "        print(b)\n",
    "        print()\n",
    "\n",
    "    else:\n",
    "        b = b\n",
    "\n",
    "    congruence_check = (a-b) % m\n",
    "    if congruence_check == 0:\n",
    "        congruents = True\n",
    "\n",
    "        print(f\"{a} ≡ {b} (mod {m})\")\n",
    "        k = (a-b)/m\n",
    "        print(f\"{a} - {b} = {k}*{m}\")\n",
    "        print(f\"{a} = {k}*{m} + {b}\")\n",
    "        print()\n",
    "        r1 = modulo(a,m)\n",
    "        p = (a-r1)/m\n",
    "        print(f\"{a} = {p}*{m} + {r1}\")\n",
    "        r2 = modulo(b,m)\n",
    "        q = (b-r2)/m\n",
    "        print(f\"{b} = {q}*{m} + {r2}\")\n",
    "        print(f\"p = {p}\")\n",
    "        print(f\"q = {q}\")\n",
    "        print(f\"r1 = {r1}\")\n",
    "        print(f\"r2 = {r2}\")\n",
    "        k = p - q\n",
    "        print(f\"k = {k}\")\n",
    "\n",
    "\n",
    "    else:\n",
    "        congruents = False\n",
    "        print(\"a and b are not congruent modulus m! You need to review the value given to b\")\n",
    "\n",
    "    return congruents"
   ]
  },
  {
   "cell_type": "markdown",
   "metadata": {},
   "source": [
    "Examples:"
   ]
  },
  {
   "cell_type": "code",
   "execution_count": 39,
   "metadata": {},
   "outputs": [
    {
     "name": "stdout",
     "output_type": "stream",
     "text": [
      "5 ≡ 1 (mod 2)\n",
      "5 - 1 = 2.0*2\n",
      "5 = 2.0*2 + 1\n",
      "\n",
      "5 mod 2:\n",
      "5 = 2.0*2 + 1\n",
      "1 mod 2:\n",
      "1 = 0.0*2 + 1\n",
      "p = 2.0\n",
      "q = 0.0\n",
      "r1 = 1\n",
      "r2 = 1\n",
      "k = 2.0\n"
     ]
    },
    {
     "data": {
      "text/plain": [
       "True"
      ]
     },
     "execution_count": 39,
     "metadata": {},
     "output_type": "execute_result"
    }
   ],
   "source": [
    "congruence(5,2, 1)"
   ]
  },
  {
   "cell_type": "code",
   "execution_count": 40,
   "metadata": {},
   "outputs": [
    {
     "name": "stdout",
     "output_type": "stream",
     "text": [
      "-8 ≡ 7 (mod 5)\n",
      "-8 - 7 = -3.0*5\n",
      "-8 = -3.0*5 + 7\n",
      "\n",
      "-8 mod 5:\n",
      "-8 = -2.0*5 + 2\n",
      "7 mod 5:\n",
      "7 = 1.0*5 + 2\n",
      "p = -2.0\n",
      "q = 1.0\n",
      "r1 = 2\n",
      "r2 = 2\n",
      "k = -3.0\n"
     ]
    },
    {
     "data": {
      "text/plain": [
       "True"
      ]
     },
     "execution_count": 40,
     "metadata": {},
     "output_type": "execute_result"
    }
   ],
   "source": [
    "congruence(-8,5, 7)"
   ]
  },
  {
   "cell_type": "code",
   "execution_count": null,
   "metadata": {},
   "outputs": [],
   "source": []
  },
  {
   "cell_type": "code",
   "execution_count": null,
   "metadata": {},
   "outputs": [],
   "source": []
  },
  {
   "cell_type": "code",
   "execution_count": null,
   "metadata": {},
   "outputs": [],
   "source": []
  }
 ],
 "metadata": {
  "kernelspec": {
   "display_name": "Python 3",
   "language": "python",
   "name": "python3"
  },
  "language_info": {
   "codemirror_mode": {
    "name": "ipython",
    "version": 3
   },
   "file_extension": ".py",
   "mimetype": "text/x-python",
   "name": "python",
   "nbconvert_exporter": "python",
   "pygments_lexer": "ipython3",
   "version": "3.11.6"
  }
 },
 "nbformat": 4,
 "nbformat_minor": 2
}
